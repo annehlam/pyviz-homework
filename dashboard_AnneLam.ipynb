{
 "cells": [
  {
   "cell_type": "markdown",
   "metadata": {},
   "source": [
    "# San Francisco Rental Prices Dashboard\n",
    "\n",
    "In this notebook, you will compile the visualizations from the previous analysis into functions that can be used for a Panel dashboard."
   ]
  },
  {
   "cell_type": "code",
   "execution_count": 121,
   "metadata": {},
   "outputs": [],
   "source": [
    "# imports\n",
    "import panel as pn\n",
    "pn.extension('plotly')\n",
    "import plotly.express as px\n",
    "import pandas as pd\n",
    "import hvplot.pandas\n",
    "import matplotlib.pyplot as plt\n",
    "import os\n",
    "from pathlib import Path\n",
    "from dotenv import load_dotenv"
   ]
  },
  {
   "cell_type": "code",
   "execution_count": 122,
   "metadata": {},
   "outputs": [],
   "source": [
    "# Read the Mapbox API key\n",
    "load_dotenv()\n",
    "mapbox_token = os.getenv(\"MAPBOX_API_KEY\")\n",
    "px.set_mapbox_access_token(mapbox_token)"
   ]
  },
  {
   "cell_type": "markdown",
   "metadata": {},
   "source": [
    "# Import Data"
   ]
  },
  {
   "cell_type": "code",
   "execution_count": 123,
   "metadata": {},
   "outputs": [],
   "source": [
    "# Import the CSVs to Pandas DataFrames\n",
    "file_path = Path(\"Data/sfo_neighborhoods_census_data.csv\")\n",
    "sfo_data = pd.read_csv(file_path, index_col=\"year\")\n",
    "\n",
    "file_path = Path(\"Data/neighborhoods_coordinates.csv\")\n",
    "df_neighborhood_locations = pd.read_csv(file_path)"
   ]
  },
  {
   "cell_type": "markdown",
   "metadata": {},
   "source": [
    "- - -"
   ]
  },
  {
   "cell_type": "markdown",
   "metadata": {},
   "source": [
    "## Panel Visualizations\n",
    "\n",
    "In this section, you will copy the code for each plot type from your analysis notebook and place it into separate functions that Panel can use to create panes for the dashboard. \n",
    "\n",
    "These functions will convert the plot object to a Panel pane.\n",
    "\n",
    "Be sure to include any DataFrame transformation/manipulation code required along with the plotting code.\n",
    "\n",
    "Return a Panel pane object from each function that can be used to build the dashboard.\n",
    "\n",
    "Note: Remove any `.show()` lines from the code. We want to return the plots instead of showing them. The Panel dashboard will then display the plots."
   ]
  },
  {
   "cell_type": "code",
   "execution_count": 201,
   "metadata": {},
   "outputs": [],
   "source": [
    "# Define Panel Visualization Functions\n",
    "def housing_units():\n",
    "    \"\"\"Housing Units Per Year.\"\"\"\n",
    "    \n",
    "    # YOUR CODE HERE!\n",
    "    # OG CODE mean_data = sfo_data.groupby('year').mean()\n",
    "    \n",
    "    mean_data = sfo_data['housing_units'].groupby(sfo_data.index).mean()\n",
    "\n",
    "    fig_housing_units = plt.figure()\n",
    "    plot_housing_units = mean_data.plot.bar(y='housing_units')\n",
    "    plot_housing_units.set_xlabel(\"Year\")\n",
    "    plot_housing_units.set_ylabel(\"Housing Units\")\n",
    "    plot_housing_units.set_title(\"Housing Units in San Francisco from 2010 to 2016\")\n",
    "    plot_housing_units.set_ylim(370000,385000)\n",
    "    \n",
    "    plt.close(fig_housing_units)\n",
    "\n",
    "    return pn.pane.Matplotlib(fig_housing_units, tight=True)\n",
    "\n",
    "def average_gross_rent():\n",
    "    \"\"\"Average Gross Rent in San Francisco Per Year.\"\"\"\n",
    "\n",
    "    # YOUR CODE HERE!\n",
    "    mean_data = sfo_data[['sale_price_sqr_foot','gross_rent']].groupby(sfo_data.index).mean()\n",
    "    \n",
    "    fig_gross_rent = plt.figure()\n",
    "    plot_gross_rent = mean_data['gross_rent'].plot.line(y='gross_rent')\n",
    "    plot_gross_rent.set_xlabel(\"Year\")\n",
    "    plot_gross_rent.set_ylabel(\"Gross Rent\")\n",
    "    plot_gross_rent.set_title(\"Average Gross Rent in San Francisco from 2010 to 2016\")\n",
    "    \n",
    "    plt.close(fig_gross_rent)\n",
    "\n",
    "    return pn.pane.Matplotlib(fig_gross_rent, tight=True)\n",
    "\n",
    "def average_sales_price():\n",
    "    \"\"\"Average Sales Price Per Year.\"\"\"\n",
    "    \n",
    "    # YOUR CODE HERE!\n",
    "    mean_data = sfo_data[['sale_price_sqr_foot','gross_rent']].groupby(sfo_data.index).mean()\n",
    "\n",
    "    fig_sales_price = plt.figure()\n",
    "    plot_sales_price = mean_data['sale_price_sqr_foot'].plot.line(y='sale_price_sqr_foot')\n",
    "    plot_sales_price.set_xlabel(\"Year\")\n",
    "    plot_sales_price.set_ylabel(\"Average Sale Price / Sq. Ft.\")\n",
    "    plot_sales_price.set_title(\"Average Sale Price / Sq. Ft. From 2010 to 2016\")\n",
    "    plt.close(fig_sales_price)\n",
    "     \n",
    "    return pn.pane.Matplotlib(fig_sales_price)\n",
    "\n",
    "def average_price_by_neighborhood():\n",
    "    \"\"\"Average Prices by Neighborhood.\"\"\"\n",
    "    \n",
    "    # YOUR CODE HERE!\n",
    "    grouped_df=sfo_data.groupby(['year','neighborhood'])\n",
    "    mean_grouped_df=grouped_df.mean().reset_index()\n",
    "\n",
    "    price_by_neighborhood = mean_grouped_df.hvplot.line(x='year', y='sale_price_sqr_foot', groupby='neighborhood', xlabel='Year', ylabel='Average Sale Price / Sq. Ft.')\n",
    "\n",
    "    return price_by_neighborhood\n",
    "    \n",
    "\n",
    "def top_most_expensive_neighborhoods():\n",
    "    \"\"\"Top 10 Most Expensive Neighborhoods.\"\"\"\n",
    "    \n",
    "    # YOUR CODE HERE!\n",
    "    neighborhood_df=sfo_data.groupby('neighborhood').mean()\n",
    "    ten_most_exp = neighborhood_df.nlargest(10,'sale_price_sqr_foot').reset_index()\n",
    "    \n",
    "    top_ten_exp = ten_most_exp.hvplot.bar(x='neighborhood', y='sale_price_sqr_foot',rot=90, xlabel='Neighborhood', ylabel='Average Sale Price / Sq. Ft.')\n",
    "\n",
    "    return top_ten_exp\n",
    "\n",
    "def parallel_coordinates():\n",
    "    \"\"\"Parallel Coordinates Plot.\"\"\"\n",
    "    \n",
    "    # YOUR CODE HERE!\n",
    "    \n",
    "    neighborhood_df=sfo_data.groupby('neighborhood').mean()\n",
    "    ten_most_exp = neighborhood_df.nlargest(10,'sale_price_sqr_foot').reset_index()\n",
    "    parallel_coordinates_plot = px.parallel_coordinates(ten_most_exp, color='sale_price_sqr_foot')\n",
    "\n",
    "    return parallel_coordinates_plot\n",
    "\n",
    "def parallel_categories():\n",
    "    \"\"\"Parallel Categories Plot.\"\"\"\n",
    "    \n",
    "    # YOUR CODE HERE!\n",
    "\n",
    "    neighborhood_df=sfo_data.groupby('neighborhood').mean()\n",
    "    ten_most_exp = neighborhood_df.nlargest(10,'sale_price_sqr_foot').reset_index()\n",
    "    parallel_categories_plot = px.parallel_categories(\n",
    "    ten_most_exp, dimensions=['neighborhood','sale_price_sqr_foot','housing_units','gross_rent'],  color='sale_price_sqr_foot', color_continuous_scale=px.colors.sequential.Inferno)\n",
    "    \n",
    "    return parallel_categories_plot\n",
    "\n",
    "def neighborhood_map():\n",
    "    \"\"\"Neighborhood Map\"\"\"\n",
    "    \n",
    "    # YOUR CODE HERE!\n",
    "\n",
    "    all_neighborhoods = sfo_data.groupby(by=\"neighborhood\").mean()\n",
    "    all_neighborhoods.reset_index(inplace=True)\n",
    "    all_neighborhoods.rename(columns={\"neighborhood\": \"Neighborhood\"}, inplace=True)\n",
    "\n",
    "    all_neighborhoods = pd.merge(df_neighborhood_locations, all_neighborhoods)\n",
    "\n",
    "map = px.scatter_mapbox(\n",
    "    all_neighborhoods,\n",
    "    lat=\"Lat\",\n",
    "    lon=\"Lon\",\n",
    "    size=\"sale_price_sqr_foot\",\n",
    "    color=\"gross_rent\",\n",
    "    zoom=10,\n",
    "    hover_name=\"Neighborhood\",\n",
    "    color_continuous_scale=px.colors.cyclical.IceFire,\n",
    "    title=\"San Francisco Neighborhood Average Sale Price / Sq. Ft. and Gross Rent\")\n",
    "\n",
    "    return map"
   ]
  },
  {
   "cell_type": "markdown",
   "metadata": {},
   "source": [
    "## Panel Dashboard\n",
    "\n",
    "In this section, you will combine all of the plots into a single dashboard view using Panel. Be creative with your dashboard design!"
   ]
  },
  {
   "cell_type": "code",
   "execution_count": 204,
   "metadata": {},
   "outputs": [],
   "source": [
    "# YOUR CODE HERE!\n",
    "title = pn.pane.Markdown(\"\")\n",
    "\n",
    "welcome = pn.pane.Markdown(\"This dashboard shows a visual representation of San Francisco housing units from 2010-2016, and the sale price per square foot and gross rent of different neighborhoods in the San Francisco area.\")\n",
    "\n",
    "tabs = pn.Tabs(\n",
    "    (\"Welcome\", pn.Column(welcome, neighborhood_map())),\n",
    "    (\"Yearly Market Analysis\", pn.Column(housing_units(), average_gross_rent(), average_sales_price())),\n",
    "    (\"Neighborhood Analysis\", pn.Column(average_price_by_neighborhood(), top_most_expensive_neighborhoods())),\n",
    "    (\n",
    "        \"Parallel Plots Analysis\",\n",
    "        pn.Column(parallel_coordinates(), parallel_categories(), width=960),\n",
    "    ),\n",
    ")\n",
    "\n",
    "\n",
    "dashboard = pn.Column(pn.Row(title), tabs)"
   ]
  },
  {
   "cell_type": "markdown",
   "metadata": {},
   "source": [
    "## Serve the Panel Dashboard"
   ]
  },
  {
   "cell_type": "code",
   "execution_count": 203,
   "metadata": {},
   "outputs": [
    {
     "output_type": "stream",
     "name": "stdout",
     "text": [
      "Launching server at http://localhost:59778\n"
     ]
    },
    {
     "output_type": "execute_result",
     "data": {
      "text/plain": [
       "<bokeh.server.server.Server at 0x204b45e4508>"
      ]
     },
     "metadata": {},
     "execution_count": 203
    }
   ],
   "source": [
    "dashboard.show()"
   ]
  }
 ],
 "metadata": {
  "file_extension": ".py",
  "kernelspec": {
   "name": "python3",
   "display_name": "Python 3",
   "language": "python"
  },
  "language_info": {
   "codemirror_mode": {
    "name": "ipython",
    "version": 3
   },
   "file_extension": ".py",
   "mimetype": "text/x-python",
   "name": "python",
   "nbconvert_exporter": "python",
   "pygments_lexer": "ipython3",
   "version": "3.7.7-final"
  },
  "mimetype": "text/x-python",
  "name": "python",
  "npconvert_exporter": "python",
  "pygments_lexer": "ipython3",
  "version": 3
 },
 "nbformat": 4,
 "nbformat_minor": 4
}